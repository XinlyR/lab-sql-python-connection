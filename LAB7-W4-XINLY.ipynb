{
 "cells": [
  {
   "cell_type": "code",
   "execution_count": 2,
   "id": "47d8292e-754d-4c9d-bf56-b2b2665c7008",
   "metadata": {},
   "outputs": [
    {
     "name": "stdout",
     "output_type": "stream",
     "text": [
      "Requirement already satisfied: SQLAlchemy in c:\\users\\tanguy\\anaconda3\\lib\\site-packages (2.0.30)\n",
      "Requirement already satisfied: typing-extensions>=4.6.0 in c:\\users\\tanguy\\anaconda3\\lib\\site-packages (from SQLAlchemy) (4.11.0)\n",
      "Requirement already satisfied: greenlet!=0.4.17 in c:\\users\\tanguy\\anaconda3\\lib\\site-packages (from SQLAlchemy) (3.0.1)\n"
     ]
    }
   ],
   "source": [
    "!pip install SQLAlchemy"
   ]
  },
  {
   "cell_type": "code",
   "execution_count": 3,
   "id": "044a74f4-bdf0-4753-bc4a-472ad25570ac",
   "metadata": {},
   "outputs": [
    {
     "name": "stdout",
     "output_type": "stream",
     "text": [
      "Requirement already satisfied: mysql-connector-python in c:\\users\\tanguy\\anaconda3\\lib\\site-packages (9.0.0)\n"
     ]
    }
   ],
   "source": [
    "!pip install mysql-connector-python"
   ]
  },
  {
   "cell_type": "code",
   "execution_count": 10,
   "id": "bd28e8c5-e77c-469a-a118-336244898414",
   "metadata": {},
   "outputs": [],
   "source": [
    "import pandas as pd\n",
    "import mysql.connector\n",
    "from sqlalchemy import create_engine\n",
    "\n",
    "from getpass import getpass"
   ]
  },
  {
   "cell_type": "code",
   "execution_count": 12,
   "id": "975a3152-d1cf-4f92-92b7-7c13b44dc030",
   "metadata": {},
   "outputs": [
    {
     "name": "stdin",
     "output_type": "stream",
     "text": [
      " ········\n"
     ]
    }
   ],
   "source": [
    "password = getpass.getpass()"
   ]
  },
  {
   "cell_type": "code",
   "execution_count": 14,
   "id": "08c903a4-128e-4e2c-8e71-5236f64aec75",
   "metadata": {},
   "outputs": [],
   "source": [
    "#1.Establish a connection between Python and the Sakila database.\n",
    "\n",
    "cnx=mysql.connector.connect(user=\"root\",\n",
    "                           password=password,\n",
    "                           host=\"localhost\",\n",
    "                           database=\"sakila\")"
   ]
  },
  {
   "cell_type": "code",
   "execution_count": 16,
   "id": "a3e74201-0e4a-4d2d-8e2a-0fcfd8c0b085",
   "metadata": {},
   "outputs": [
    {
     "data": {
      "text/plain": [
       "True"
      ]
     },
     "execution_count": 16,
     "metadata": {},
     "output_type": "execute_result"
    }
   ],
   "source": [
    "cnx.is_connected()"
   ]
  },
  {
   "cell_type": "code",
   "execution_count": 18,
   "id": "28dedf2e-1ecb-4d35-a469-2050fd45d889",
   "metadata": {},
   "outputs": [],
   "source": [
    "cursor=cnx.cursor()"
   ]
  },
  {
   "cell_type": "code",
   "execution_count": null,
   "id": "c7d12db8-e3e4-4491-962b-3894a57ecff0",
   "metadata": {},
   "outputs": [],
   "source": [
    "\"\"\"\n",
    "2.\n",
    "Write a Python function called rentals_month that retrieves rental data for a given month and year (passed as parameters) \n",
    "from the Sakila database as a Pandas DataFrame. The function should take in three parameters:\n",
    "\n",
    "engine: an object representing the database connection engine to be used to establish a connection to the Sakila database.\n",
    "month: an integer representing the month for which rental data is to be retrieved.\n",
    "year: an integer representing the year for which rental data is to be retrieved.\n",
    "The function should execute a SQL query to retrieve the rental data for the specified month and year from the \n",
    "rental table in the Sakila database, and return it as a pandas DataFrame.\n",
    "\n",
    "\"\"\""
   ]
  },
  {
   "cell_type": "code",
   "execution_count": 98,
   "id": "89d07fc2-7f9b-412c-922a-7d09ee9b975a",
   "metadata": {},
   "outputs": [],
   "source": [
    "def rentals_month(cnx, month, year):\n",
    "    # Query to get the info\n",
    "    query = f\"\"\"\n",
    "    SELECT rental_id, rental_date, inventory_id, customer_id, return_date, staff_id\n",
    "    FROM sakila.rental\n",
    "    WHERE MONTH(rental_date) = {month} AND YEAR(rental_date) = {year};\n",
    "    \"\"\"\n",
    "    \n",
    "    # read sql into a df\n",
    "    df_rentals = pd.read_sql(query, cnx)\n",
    "    \n",
    "    return df_rentals"
   ]
  },
  {
   "cell_type": "code",
   "execution_count": 100,
   "id": "f012abc4-f9b2-4b95-a86f-9ca90d47b803",
   "metadata": {},
   "outputs": [
    {
     "name": "stderr",
     "output_type": "stream",
     "text": [
      "C:\\Users\\Tanguy\\AppData\\Local\\Temp\\ipykernel_1812\\1316048574.py:10: UserWarning: pandas only supports SQLAlchemy connectable (engine/connection) or database string URI or sqlite3 DBAPI2 connection. Other DBAPI2 objects are not tested. Please consider using SQLAlchemy.\n",
      "  df_rentals = pd.read_sql(query, cnx)\n"
     ]
    }
   ],
   "source": [
    "df_may_rentals = rentals_month(cnx, 5, 2005)  \n",
    "df_june_rentals = rentals_month(cnx, 6, 2005)"
   ]
  },
  {
   "cell_type": "code",
   "execution_count": null,
   "id": "9f630de0-053d-4e38-b5d6-665059b55dfc",
   "metadata": {},
   "outputs": [],
   "source": [
    "\"\"\"\n",
    "Develop a Python function called rental_count_month that takes the DataFrame provided by rentals_month as \n",
    "input along with the month and year and returns a new DataFrame containing the number of rentals made by \n",
    "each customer_id during the selected month and year.\n",
    "\n",
    "The function should also include the month and year as parameters and use them to name the new column \n",
    "according to the month and year, for example, if the input month is 05 and the year is 2005, the column \n",
    "name should be \"rentals_05_2005\".\n",
    "\n",
    "Hint: Consider making use of pandas groupby()\n",
    "\"\"\""
   ]
  },
  {
   "cell_type": "code",
   "execution_count": 102,
   "id": "fe1785a7-abf1-482f-8c29-b47cb8236c5d",
   "metadata": {},
   "outputs": [],
   "source": [
    "def rental_count_month(df_rentals, month, year):\n",
    "    # Group by customer_id and count rentals\n",
    "    rental_counts = df_rentals.groupby('customer_id').size().reset_index(name='rental_count')\n",
    "    \n",
    "    # Create a new column name based on month and year\n",
    "    column_name = f'rentals_{month:02d}_{year}'\n",
    "    \n",
    "    # Rename the rental_count column to the new column name\n",
    "    rental_counts = rental_counts.rename(columns={'rental_count': column_name})\n",
    "    \n",
    "    return rental_counts"
   ]
  },
  {
   "cell_type": "code",
   "execution_count": 104,
   "id": "552e6f06-de82-4bff-8cb4-b74a65eb0812",
   "metadata": {},
   "outputs": [],
   "source": [
    "df_rentals_may = rental_count_month(df_may_rentals, 5, 2005) \n",
    "df_rentals_june = rental_count_month(df_june_rentals, 6, 2005) "
   ]
  },
  {
   "cell_type": "code",
   "execution_count": null,
   "id": "e424a696-711f-44ec-bbcc-506ed636ecb6",
   "metadata": {},
   "outputs": [],
   "source": [
    "\"\"\"\n",
    "4.Create a Python function called compare_rentals that takes two DataFrames as input containing the number of rentals \n",
    "made by each customer in different months and years. The function should return a combined DataFrame with \n",
    "a new 'difference' column, which is the difference between the number of rentals in the two months.\n",
    "\"\"\""
   ]
  },
  {
   "cell_type": "code",
   "execution_count": 106,
   "id": "bf86e54c-85bf-4896-a3d0-097c034199c9",
   "metadata": {},
   "outputs": [],
   "source": [
    "def compare_rentals(df_rentals_month1, df_rentals_month2):\n",
    "    # Merge the two DataFrames on customer_id\n",
    "    combined_df = pd.merge(\n",
    "        df_rentals_month1,\n",
    "        df_rentals_month2,\n",
    "        on='customer_id',\n",
    "        how='outer',  # Outer to include all customers\n",
    "    )\n",
    "    \n",
    "    # Calculate the difference in rentals\n",
    "    combined_df['difference'] = combined_df[f'rentals_05_2005'].fillna(0) - combined_df[f'rentals_06_2005'].fillna(0)\n",
    "    \n",
    "    # Return the combined DataFrame\n",
    "    return combined_df[['customer_id', f'rentals_05_2005', f'rentals_06_2005', 'difference']]\n"
   ]
  },
  {
   "cell_type": "code",
   "execution_count": 110,
   "id": "d69b86fe-86a2-4cbb-83a2-9cbeb5dfe0ed",
   "metadata": {},
   "outputs": [
    {
     "data": {
      "text/html": [
       "<div>\n",
       "<style scoped>\n",
       "    .dataframe tbody tr th:only-of-type {\n",
       "        vertical-align: middle;\n",
       "    }\n",
       "\n",
       "    .dataframe tbody tr th {\n",
       "        vertical-align: top;\n",
       "    }\n",
       "\n",
       "    .dataframe thead th {\n",
       "        text-align: right;\n",
       "    }\n",
       "</style>\n",
       "<table border=\"1\" class=\"dataframe\">\n",
       "  <thead>\n",
       "    <tr style=\"text-align: right;\">\n",
       "      <th></th>\n",
       "      <th>customer_id</th>\n",
       "      <th>rentals_05_2005</th>\n",
       "      <th>rentals_06_2005</th>\n",
       "      <th>difference</th>\n",
       "    </tr>\n",
       "  </thead>\n",
       "  <tbody>\n",
       "    <tr>\n",
       "      <th>0</th>\n",
       "      <td>1</td>\n",
       "      <td>2.0</td>\n",
       "      <td>7.0</td>\n",
       "      <td>-5.0</td>\n",
       "    </tr>\n",
       "    <tr>\n",
       "      <th>1</th>\n",
       "      <td>2</td>\n",
       "      <td>1.0</td>\n",
       "      <td>1.0</td>\n",
       "      <td>0.0</td>\n",
       "    </tr>\n",
       "    <tr>\n",
       "      <th>2</th>\n",
       "      <td>3</td>\n",
       "      <td>2.0</td>\n",
       "      <td>4.0</td>\n",
       "      <td>-2.0</td>\n",
       "    </tr>\n",
       "    <tr>\n",
       "      <th>3</th>\n",
       "      <td>4</td>\n",
       "      <td>NaN</td>\n",
       "      <td>6.0</td>\n",
       "      <td>-6.0</td>\n",
       "    </tr>\n",
       "    <tr>\n",
       "      <th>4</th>\n",
       "      <td>5</td>\n",
       "      <td>3.0</td>\n",
       "      <td>5.0</td>\n",
       "      <td>-2.0</td>\n",
       "    </tr>\n",
       "    <tr>\n",
       "      <th>...</th>\n",
       "      <td>...</td>\n",
       "      <td>...</td>\n",
       "      <td>...</td>\n",
       "      <td>...</td>\n",
       "    </tr>\n",
       "    <tr>\n",
       "      <th>593</th>\n",
       "      <td>595</td>\n",
       "      <td>1.0</td>\n",
       "      <td>2.0</td>\n",
       "      <td>-1.0</td>\n",
       "    </tr>\n",
       "    <tr>\n",
       "      <th>594</th>\n",
       "      <td>596</td>\n",
       "      <td>6.0</td>\n",
       "      <td>2.0</td>\n",
       "      <td>4.0</td>\n",
       "    </tr>\n",
       "    <tr>\n",
       "      <th>595</th>\n",
       "      <td>597</td>\n",
       "      <td>2.0</td>\n",
       "      <td>3.0</td>\n",
       "      <td>-1.0</td>\n",
       "    </tr>\n",
       "    <tr>\n",
       "      <th>596</th>\n",
       "      <td>598</td>\n",
       "      <td>NaN</td>\n",
       "      <td>1.0</td>\n",
       "      <td>-1.0</td>\n",
       "    </tr>\n",
       "    <tr>\n",
       "      <th>597</th>\n",
       "      <td>599</td>\n",
       "      <td>1.0</td>\n",
       "      <td>4.0</td>\n",
       "      <td>-3.0</td>\n",
       "    </tr>\n",
       "  </tbody>\n",
       "</table>\n",
       "<p>598 rows × 4 columns</p>\n",
       "</div>"
      ],
      "text/plain": [
       "     customer_id  rentals_05_2005  rentals_06_2005  difference\n",
       "0              1              2.0              7.0        -5.0\n",
       "1              2              1.0              1.0         0.0\n",
       "2              3              2.0              4.0        -2.0\n",
       "3              4              NaN              6.0        -6.0\n",
       "4              5              3.0              5.0        -2.0\n",
       "..           ...              ...              ...         ...\n",
       "593          595              1.0              2.0        -1.0\n",
       "594          596              6.0              2.0         4.0\n",
       "595          597              2.0              3.0        -1.0\n",
       "596          598              NaN              1.0        -1.0\n",
       "597          599              1.0              4.0        -3.0\n",
       "\n",
       "[598 rows x 4 columns]"
      ]
     },
     "execution_count": 110,
     "metadata": {},
     "output_type": "execute_result"
    }
   ],
   "source": [
    "comparison_df = compare_rentals(df_rentals_may, df_rentals_june)  \n",
    "pd.DataFrame(comparison_df)"
   ]
  },
  {
   "cell_type": "code",
   "execution_count": null,
   "id": "15775bd1-74bc-4d1d-9dee-0eb3bc04fd68",
   "metadata": {},
   "outputs": [],
   "source": []
  }
 ],
 "metadata": {
  "kernelspec": {
   "display_name": "Python 3 (ipykernel)",
   "language": "python",
   "name": "python3"
  },
  "language_info": {
   "codemirror_mode": {
    "name": "ipython",
    "version": 3
   },
   "file_extension": ".py",
   "mimetype": "text/x-python",
   "name": "python",
   "nbconvert_exporter": "python",
   "pygments_lexer": "ipython3",
   "version": "3.12.4"
  }
 },
 "nbformat": 4,
 "nbformat_minor": 5
}
